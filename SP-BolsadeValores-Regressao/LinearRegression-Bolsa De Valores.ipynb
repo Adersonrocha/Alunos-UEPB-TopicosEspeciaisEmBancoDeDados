{
 "cells": [
  {
   "cell_type": "markdown",
   "metadata": {
    "collapsed": true
   },
   "source": [
    "# Regressão Linear - Bolsa De Valores Americana\n",
    "\n",
    "## fonte de dados: https://finance.yahoo.com/\n",
    "## https://finance.yahoo.com/screener/predefined/most_actives"
   ]
  },
  {
   "cell_type": "code",
   "execution_count": 79,
   "metadata": {
    "collapsed": true
   },
   "outputs": [],
   "source": [
    "import numpy, pandas as pd\n",
    "import matplotlib, matplotlib.pyplot as plt\n",
    "import sklearn.linear_model as lm\n",
    "import warnings\n",
    "warnings.filterwarnings('ignore')"
   ]
  },
  {
   "cell_type": "code",
   "execution_count": 30,
   "metadata": {},
   "outputs": [
    {
     "data": {
      "text/html": [
       "<div>\n",
       "<style>\n",
       "    .dataframe thead tr:only-child th {\n",
       "        text-align: right;\n",
       "    }\n",
       "\n",
       "    .dataframe thead th {\n",
       "        text-align: left;\n",
       "    }\n",
       "\n",
       "    .dataframe tbody tr th {\n",
       "        vertical-align: top;\n",
       "    }\n",
       "</style>\n",
       "<table border=\"1\" class=\"dataframe\">\n",
       "  <thead>\n",
       "    <tr style=\"text-align: right;\">\n",
       "      <th></th>\n",
       "      <th>Open</th>\n",
       "      <th>High</th>\n",
       "      <th>Low</th>\n",
       "      <th>Close</th>\n",
       "      <th>Adj Close</th>\n",
       "      <th>Volume</th>\n",
       "    </tr>\n",
       "    <tr>\n",
       "      <th>Date</th>\n",
       "      <th></th>\n",
       "      <th></th>\n",
       "      <th></th>\n",
       "      <th></th>\n",
       "      <th></th>\n",
       "      <th></th>\n",
       "    </tr>\n",
       "  </thead>\n",
       "  <tbody>\n",
       "    <tr>\n",
       "      <th>2012-05-18</th>\n",
       "      <td>42.049999</td>\n",
       "      <td>45.000000</td>\n",
       "      <td>38.000000</td>\n",
       "      <td>38.230000</td>\n",
       "      <td>38.230000</td>\n",
       "      <td>573576400</td>\n",
       "    </tr>\n",
       "    <tr>\n",
       "      <th>2012-05-21</th>\n",
       "      <td>36.529999</td>\n",
       "      <td>36.660000</td>\n",
       "      <td>33.000000</td>\n",
       "      <td>34.029999</td>\n",
       "      <td>34.029999</td>\n",
       "      <td>168192700</td>\n",
       "    </tr>\n",
       "    <tr>\n",
       "      <th>2012-05-22</th>\n",
       "      <td>32.610001</td>\n",
       "      <td>33.590000</td>\n",
       "      <td>30.940001</td>\n",
       "      <td>31.000000</td>\n",
       "      <td>31.000000</td>\n",
       "      <td>101786600</td>\n",
       "    </tr>\n",
       "    <tr>\n",
       "      <th>2012-05-23</th>\n",
       "      <td>31.370001</td>\n",
       "      <td>32.500000</td>\n",
       "      <td>31.360001</td>\n",
       "      <td>32.000000</td>\n",
       "      <td>32.000000</td>\n",
       "      <td>73600000</td>\n",
       "    </tr>\n",
       "    <tr>\n",
       "      <th>2012-05-24</th>\n",
       "      <td>32.950001</td>\n",
       "      <td>33.209999</td>\n",
       "      <td>31.770000</td>\n",
       "      <td>33.029999</td>\n",
       "      <td>33.029999</td>\n",
       "      <td>50237200</td>\n",
       "    </tr>\n",
       "  </tbody>\n",
       "</table>\n",
       "</div>"
      ],
      "text/plain": [
       "                 Open       High        Low      Close  Adj Close     Volume\n",
       "Date                                                                        \n",
       "2012-05-18  42.049999  45.000000  38.000000  38.230000  38.230000  573576400\n",
       "2012-05-21  36.529999  36.660000  33.000000  34.029999  34.029999  168192700\n",
       "2012-05-22  32.610001  33.590000  30.940001  31.000000  31.000000  101786600\n",
       "2012-05-23  31.370001  32.500000  31.360001  32.000000  32.000000   73600000\n",
       "2012-05-24  32.950001  33.209999  31.770000  33.029999  33.029999   50237200"
      ]
     },
     "execution_count": 30,
     "metadata": {},
     "output_type": "execute_result"
    }
   ],
   "source": [
    "# https://finance.yahoo.com/screener/predefined/most_actives\n",
    "# açoes da Facebook\n",
    "fb = pd.read_csv(\"fb.csv\").set_index(\"Date\")\n",
    "\n",
    "fb.head()"
   ]
  },
  {
   "cell_type": "code",
   "execution_count": 31,
   "metadata": {},
   "outputs": [
    {
     "data": {
      "text/html": [
       "<div>\n",
       "<style>\n",
       "    .dataframe thead tr:only-child th {\n",
       "        text-align: right;\n",
       "    }\n",
       "\n",
       "    .dataframe thead th {\n",
       "        text-align: left;\n",
       "    }\n",
       "\n",
       "    .dataframe tbody tr th {\n",
       "        vertical-align: top;\n",
       "    }\n",
       "</style>\n",
       "<table border=\"1\" class=\"dataframe\">\n",
       "  <thead>\n",
       "    <tr style=\"text-align: right;\">\n",
       "      <th></th>\n",
       "      <th>Open</th>\n",
       "      <th>High</th>\n",
       "      <th>Low</th>\n",
       "      <th>Close</th>\n",
       "      <th>Adj Close</th>\n",
       "      <th>Volume</th>\n",
       "    </tr>\n",
       "    <tr>\n",
       "      <th>Date</th>\n",
       "      <th></th>\n",
       "      <th></th>\n",
       "      <th></th>\n",
       "      <th></th>\n",
       "      <th></th>\n",
       "      <th></th>\n",
       "    </tr>\n",
       "  </thead>\n",
       "  <tbody>\n",
       "    <tr>\n",
       "      <th>2017-07-13</th>\n",
       "      <td>158.740005</td>\n",
       "      <td>159.779999</td>\n",
       "      <td>158.419998</td>\n",
       "      <td>159.259995</td>\n",
       "      <td>159.259995</td>\n",
       "      <td>13929200</td>\n",
       "    </tr>\n",
       "    <tr>\n",
       "      <th>2017-07-14</th>\n",
       "      <td>160.130005</td>\n",
       "      <td>160.320007</td>\n",
       "      <td>159.330002</td>\n",
       "      <td>159.970001</td>\n",
       "      <td>159.970001</td>\n",
       "      <td>16371200</td>\n",
       "    </tr>\n",
       "    <tr>\n",
       "      <th>2017-07-17</th>\n",
       "      <td>160.250000</td>\n",
       "      <td>160.779999</td>\n",
       "      <td>158.809998</td>\n",
       "      <td>159.729996</td>\n",
       "      <td>159.729996</td>\n",
       "      <td>12858800</td>\n",
       "    </tr>\n",
       "    <tr>\n",
       "      <th>2017-07-18</th>\n",
       "      <td>159.660004</td>\n",
       "      <td>163.729996</td>\n",
       "      <td>159.419998</td>\n",
       "      <td>162.860001</td>\n",
       "      <td>162.860001</td>\n",
       "      <td>23722900</td>\n",
       "    </tr>\n",
       "    <tr>\n",
       "      <th>2017-07-19</th>\n",
       "      <td>163.589996</td>\n",
       "      <td>165.699997</td>\n",
       "      <td>163.169998</td>\n",
       "      <td>164.139999</td>\n",
       "      <td>164.139999</td>\n",
       "      <td>26007000</td>\n",
       "    </tr>\n",
       "  </tbody>\n",
       "</table>\n",
       "</div>"
      ],
      "text/plain": [
       "                  Open        High         Low       Close   Adj Close  \\\n",
       "Date                                                                     \n",
       "2017-07-13  158.740005  159.779999  158.419998  159.259995  159.259995   \n",
       "2017-07-14  160.130005  160.320007  159.330002  159.970001  159.970001   \n",
       "2017-07-17  160.250000  160.779999  158.809998  159.729996  159.729996   \n",
       "2017-07-18  159.660004  163.729996  159.419998  162.860001  162.860001   \n",
       "2017-07-19  163.589996  165.699997  163.169998  164.139999  164.139999   \n",
       "\n",
       "              Volume  \n",
       "Date                  \n",
       "2017-07-13  13929200  \n",
       "2017-07-14  16371200  \n",
       "2017-07-17  12858800  \n",
       "2017-07-18  23722900  \n",
       "2017-07-19  26007000  "
      ]
     },
     "execution_count": 31,
     "metadata": {},
     "output_type": "execute_result"
    }
   ],
   "source": [
    "fb.tail()"
   ]
  },
  {
   "cell_type": "code",
   "execution_count": 32,
   "metadata": {},
   "outputs": [
    {
     "data": {
      "text/html": [
       "<div>\n",
       "<style>\n",
       "    .dataframe thead tr:only-child th {\n",
       "        text-align: right;\n",
       "    }\n",
       "\n",
       "    .dataframe thead th {\n",
       "        text-align: left;\n",
       "    }\n",
       "\n",
       "    .dataframe tbody tr th {\n",
       "        vertical-align: top;\n",
       "    }\n",
       "</style>\n",
       "<table border=\"1\" class=\"dataframe\">\n",
       "  <thead>\n",
       "    <tr style=\"text-align: right;\">\n",
       "      <th></th>\n",
       "      <th>Open</th>\n",
       "      <th>High</th>\n",
       "      <th>Low</th>\n",
       "      <th>Close</th>\n",
       "      <th>Adj Close</th>\n",
       "      <th>Volume</th>\n",
       "    </tr>\n",
       "    <tr>\n",
       "      <th>Date</th>\n",
       "      <th></th>\n",
       "      <th></th>\n",
       "      <th></th>\n",
       "      <th></th>\n",
       "      <th></th>\n",
       "      <th></th>\n",
       "    </tr>\n",
       "  </thead>\n",
       "  <tbody>\n",
       "    <tr>\n",
       "      <th>2012-05-18</th>\n",
       "      <td>42.049999</td>\n",
       "      <td>45.000000</td>\n",
       "      <td>38.000000</td>\n",
       "      <td>38.230000</td>\n",
       "      <td>38.230000</td>\n",
       "      <td>573576400</td>\n",
       "    </tr>\n",
       "    <tr>\n",
       "      <th>2012-05-21</th>\n",
       "      <td>36.529999</td>\n",
       "      <td>36.660000</td>\n",
       "      <td>33.000000</td>\n",
       "      <td>34.029999</td>\n",
       "      <td>34.029999</td>\n",
       "      <td>168192700</td>\n",
       "    </tr>\n",
       "    <tr>\n",
       "      <th>2012-05-22</th>\n",
       "      <td>32.610001</td>\n",
       "      <td>33.590000</td>\n",
       "      <td>30.940001</td>\n",
       "      <td>31.000000</td>\n",
       "      <td>31.000000</td>\n",
       "      <td>101786600</td>\n",
       "    </tr>\n",
       "    <tr>\n",
       "      <th>2012-05-23</th>\n",
       "      <td>31.370001</td>\n",
       "      <td>32.500000</td>\n",
       "      <td>31.360001</td>\n",
       "      <td>32.000000</td>\n",
       "      <td>32.000000</td>\n",
       "      <td>73600000</td>\n",
       "    </tr>\n",
       "    <tr>\n",
       "      <th>2012-05-24</th>\n",
       "      <td>32.950001</td>\n",
       "      <td>33.209999</td>\n",
       "      <td>31.770000</td>\n",
       "      <td>33.029999</td>\n",
       "      <td>33.029999</td>\n",
       "      <td>50237200</td>\n",
       "    </tr>\n",
       "  </tbody>\n",
       "</table>\n",
       "</div>"
      ],
      "text/plain": [
       "                 Open       High        Low      Close  Adj Close     Volume\n",
       "Date                                                                        \n",
       "2012-05-18  42.049999  45.000000  38.000000  38.230000  38.230000  573576400\n",
       "2012-05-21  36.529999  36.660000  33.000000  34.029999  34.029999  168192700\n",
       "2012-05-22  32.610001  33.590000  30.940001  31.000000  31.000000  101786600\n",
       "2012-05-23  31.370001  32.500000  31.360001  32.000000  32.000000   73600000\n",
       "2012-05-24  32.950001  33.209999  31.770000  33.029999  33.029999   50237200"
      ]
     },
     "execution_count": 32,
     "metadata": {},
     "output_type": "execute_result"
    }
   ],
   "source": [
    "# converte o index para o tipo data\n",
    "fb.index = pd.to_datetime(fb.index)\n",
    "fb.head()"
   ]
  },
  {
   "cell_type": "code",
   "execution_count": 33,
   "metadata": {},
   "outputs": [
    {
     "name": "stdout",
     "output_type": "stream",
     "text": [
      "<class 'pandas.core.frame.DataFrame'>\n",
      "DatetimeIndex: 1300 entries, 2012-05-18 to 2017-07-19\n",
      "Data columns (total 6 columns):\n",
      "Open         1300 non-null float64\n",
      "High         1300 non-null float64\n",
      "Low          1300 non-null float64\n",
      "Close        1300 non-null float64\n",
      "Adj Close    1300 non-null float64\n",
      "Volume       1300 non-null int64\n",
      "dtypes: float64(5), int64(1)\n",
      "memory usage: 71.1 KB\n"
     ]
    }
   ],
   "source": [
    "fb.info()"
   ]
  },
  {
   "cell_type": "code",
   "execution_count": 34,
   "metadata": {},
   "outputs": [
    {
     "data": {
      "text/html": [
       "<div>\n",
       "<style>\n",
       "    .dataframe thead tr:only-child th {\n",
       "        text-align: right;\n",
       "    }\n",
       "\n",
       "    .dataframe thead th {\n",
       "        text-align: left;\n",
       "    }\n",
       "\n",
       "    .dataframe tbody tr th {\n",
       "        vertical-align: top;\n",
       "    }\n",
       "</style>\n",
       "<table border=\"1\" class=\"dataframe\">\n",
       "  <thead>\n",
       "    <tr style=\"text-align: right;\">\n",
       "      <th></th>\n",
       "      <th>Open</th>\n",
       "      <th>High</th>\n",
       "      <th>Low</th>\n",
       "      <th>Close</th>\n",
       "      <th>Adj Close</th>\n",
       "      <th>Volume</th>\n",
       "    </tr>\n",
       "  </thead>\n",
       "  <tbody>\n",
       "    <tr>\n",
       "      <th>count</th>\n",
       "      <td>1300.000000</td>\n",
       "      <td>1300.000000</td>\n",
       "      <td>1300.000000</td>\n",
       "      <td>1300.000000</td>\n",
       "      <td>1300.000000</td>\n",
       "      <td>1.300000e+03</td>\n",
       "    </tr>\n",
       "    <tr>\n",
       "      <th>mean</th>\n",
       "      <td>78.058762</td>\n",
       "      <td>78.883938</td>\n",
       "      <td>77.176454</td>\n",
       "      <td>78.063777</td>\n",
       "      <td>78.063777</td>\n",
       "      <td>3.938419e+07</td>\n",
       "    </tr>\n",
       "    <tr>\n",
       "      <th>std</th>\n",
       "      <td>39.250163</td>\n",
       "      <td>39.436006</td>\n",
       "      <td>39.056692</td>\n",
       "      <td>39.301331</td>\n",
       "      <td>39.301331</td>\n",
       "      <td>3.325543e+07</td>\n",
       "    </tr>\n",
       "    <tr>\n",
       "      <th>min</th>\n",
       "      <td>18.080000</td>\n",
       "      <td>18.270000</td>\n",
       "      <td>17.549999</td>\n",
       "      <td>17.730000</td>\n",
       "      <td>17.730000</td>\n",
       "      <td>5.913100e+06</td>\n",
       "    </tr>\n",
       "    <tr>\n",
       "      <th>25%</th>\n",
       "      <td>42.042499</td>\n",
       "      <td>43.887498</td>\n",
       "      <td>41.704999</td>\n",
       "      <td>42.349998</td>\n",
       "      <td>42.349998</td>\n",
       "      <td>1.981218e+07</td>\n",
       "    </tr>\n",
       "    <tr>\n",
       "      <th>50%</th>\n",
       "      <td>77.134998</td>\n",
       "      <td>77.974998</td>\n",
       "      <td>76.075001</td>\n",
       "      <td>77.205002</td>\n",
       "      <td>77.205002</td>\n",
       "      <td>2.952915e+07</td>\n",
       "    </tr>\n",
       "    <tr>\n",
       "      <th>75%</th>\n",
       "      <td>111.852503</td>\n",
       "      <td>112.849996</td>\n",
       "      <td>110.595003</td>\n",
       "      <td>112.212500</td>\n",
       "      <td>112.212500</td>\n",
       "      <td>4.819220e+07</td>\n",
       "    </tr>\n",
       "    <tr>\n",
       "      <th>max</th>\n",
       "      <td>163.589996</td>\n",
       "      <td>165.699997</td>\n",
       "      <td>163.169998</td>\n",
       "      <td>164.139999</td>\n",
       "      <td>164.139999</td>\n",
       "      <td>5.735764e+08</td>\n",
       "    </tr>\n",
       "  </tbody>\n",
       "</table>\n",
       "</div>"
      ],
      "text/plain": [
       "              Open         High          Low        Close    Adj Close  \\\n",
       "count  1300.000000  1300.000000  1300.000000  1300.000000  1300.000000   \n",
       "mean     78.058762    78.883938    77.176454    78.063777    78.063777   \n",
       "std      39.250163    39.436006    39.056692    39.301331    39.301331   \n",
       "min      18.080000    18.270000    17.549999    17.730000    17.730000   \n",
       "25%      42.042499    43.887498    41.704999    42.349998    42.349998   \n",
       "50%      77.134998    77.974998    76.075001    77.205002    77.205002   \n",
       "75%     111.852503   112.849996   110.595003   112.212500   112.212500   \n",
       "max     163.589996   165.699997   163.169998   164.139999   164.139999   \n",
       "\n",
       "             Volume  \n",
       "count  1.300000e+03  \n",
       "mean   3.938419e+07  \n",
       "std    3.325543e+07  \n",
       "min    5.913100e+06  \n",
       "25%    1.981218e+07  \n",
       "50%    2.952915e+07  \n",
       "75%    4.819220e+07  \n",
       "max    5.735764e+08  "
      ]
     },
     "execution_count": 34,
     "metadata": {},
     "output_type": "execute_result"
    }
   ],
   "source": [
    "fb.describe()"
   ]
  },
  {
   "cell_type": "code",
   "execution_count": 35,
   "metadata": {},
   "outputs": [
    {
     "name": "stdout",
     "output_type": "stream",
     "text": [
      "Date\n",
      "2012-05-18    38.230000\n",
      "2012-05-21    34.029999\n",
      "2012-05-22    31.000000\n",
      "2012-05-23    32.000000\n",
      "2012-05-24    33.029999\n",
      "Name: Close, dtype: float64\n"
     ]
    }
   ],
   "source": [
    "# Preparacao do modelo e aplicacao da regressao\n",
    "olm = lm.LinearRegression()\n",
    "X = numpy.array([x.toordinal() for x in fb.index])[:, numpy.newaxis]\n",
    "y = fb['Close']\n",
    "\n",
    "print(y[:5])"
   ]
  },
  {
   "cell_type": "code",
   "execution_count": 36,
   "metadata": {},
   "outputs": [
    {
     "data": {
      "text/plain": [
       "LinearRegression(copy_X=True, fit_intercept=True, n_jobs=1, normalize=False)"
      ]
     },
     "execution_count": 36,
     "metadata": {},
     "output_type": "execute_result"
    }
   ],
   "source": [
    "#aplicacao do modelo de regressao\n",
    "olm.fit(X, y)"
   ]
  },
  {
   "cell_type": "code",
   "execution_count": 38,
   "metadata": {},
   "outputs": [
    {
     "name": "stdout",
     "output_type": "stream",
     "text": [
      "0.970454845955\n"
     ]
    }
   ],
   "source": [
    "# aplicando a predicao - datas\n",
    "yp = [olm.predict(x.toordinal())[0] for x in fb.index]\n",
    "\n",
    "# Avaliacao do modelo\n",
    "olm_score = olm.score(X, y)\n",
    "print(olm_score)"
   ]
  },
  {
   "cell_type": "code",
   "execution_count": 43,
   "metadata": {},
   "outputs": [
    {
     "data": {
      "image/png": "[encoded data removed]",
      "text/plain": [
       "<matplotlib.figure.Figure at 0x11cdc45c0>"
      ]
     },
     "metadata": {},
     "output_type": "display_data"
    }
   ],
   "source": [
    "# Plot do modelo\n",
    "matplotlib.style.use(\"ggplot\")\n",
    "plt.figure(figsize=(15,10))\n",
    "\n",
    "# Plot o Y e o YPrevisto - datas\n",
    "plt.plot(fb.index, y)\n",
    "plt.plot(fb.index, yp)\n",
    "\n",
    "# adcionando textos\n",
    "plt.title(\"OLS Regression\")\n",
    "plt.xlabel(\"Ano\")\n",
    "plt.ylabel(\"Facebook (fechamento)\")\n",
    "plt.legend([\"Atual\", \"Previsto\"], loc=\"lower right\")\n",
    "plt.savefig(\"fabebook-linregr.pdf\")\n",
    "\n",
    "\n",
    "plt.show()"
   ]
  },
  {
   "cell_type": "code",
   "execution_count": null,
   "metadata": {
    "collapsed": true
   },
   "outputs": [],
   "source": [
    "# previsao para o ano de 2018"
   ]
  },
  {
   "cell_type": "code",
   "execution_count": 50,
   "metadata": {},
   "outputs": [
    {
     "name": "stdout",
     "output_type": "stream",
     "text": [
      "previsao para  2018-01-30  (fechamento) = us$  158.913273665\n"
     ]
    }
   ],
   "source": [
    "from datetime import datetime\n",
    "\n",
    "data = \"2018-01-30\"\n",
    "datetime_object = datetime.strptime(data, '%Y-%m-%d')\n",
    "\n",
    "\n",
    "yp2018 = olm.predict(datetime_object.toordinal())\n",
    "print (\"previsao para \", data, \" (fechamento) = us$ \", yp2018[0])"
   ]
  },
  {
   "cell_type": "code",
   "execution_count": 51,
   "metadata": {},
   "outputs": [
    {
     "name": "stdout",
     "output_type": "stream",
     "text": [
      "previsao para  2020-01-30  (fechamento) = us$  210.788685624\n"
     ]
    }
   ],
   "source": [
    "data = \"2020-01-30\"\n",
    "datetime_object = datetime.strptime(data, '%Y-%m-%d')\n",
    "\n",
    "\n",
    "yp2020 = olm.predict(datetime_object.toordinal())\n",
    "print (\"previsao para \", data, \" (fechamento) = us$ \", yp2020[0])"
   ]
  },
  {
   "cell_type": "code",
   "execution_count": 52,
   "metadata": {},
   "outputs": [
    {
     "name": "stdout",
     "output_type": "stream",
     "text": [
      "previsao para  2025-01-30  (fechamento) = us$  340.619339938\n"
     ]
    }
   ],
   "source": [
    "data = \"2025-01-30\"\n",
    "datetime_object = datetime.strptime(data, '%Y-%m-%d')\n",
    "\n",
    "\n",
    "yp2025 = olm.predict(datetime_object.toordinal())\n",
    "print (\"previsao para \", data, \" (fechamento) = us$ \", yp2025[0])"
   ]
  },
  {
   "cell_type": "code",
   "execution_count": 76,
   "metadata": {},
   "outputs": [
    {
     "name": "stdout",
     "output_type": "stream",
     "text": [
      "diferenca ano 2025 - 2018 - Lucro da ação do Facebook (%) -> 214%\n"
     ]
    }
   ],
   "source": [
    "lucro = yp2025[0] / yp2018[0] * 100\n",
    "print(\"diferenca ano 2025 - 2018 - Lucro da ação do Facebook (%) ->\", \"{:3.0f}%\".format(lucro)  )"
   ]
  },
  {
   "cell_type": "markdown",
   "metadata": {},
   "source": [
    "# indice S&P Americano"
   ]
  },
  {
   "cell_type": "code",
   "execution_count": 2,
   "metadata": {},
   "outputs": [
    {
     "data": {
      "text/html": [
       "<div>\n",
       "<style>\n",
       "    .dataframe thead tr:only-child th {\n",
       "        text-align: right;\n",
       "    }\n",
       "\n",
       "    .dataframe thead th {\n",
       "        text-align: left;\n",
       "    }\n",
       "\n",
       "    .dataframe tbody tr th {\n",
       "        vertical-align: top;\n",
       "    }\n",
       "</style>\n",
       "<table border=\"1\" class=\"dataframe\">\n",
       "  <thead>\n",
       "    <tr style=\"text-align: right;\">\n",
       "      <th></th>\n",
       "      <th>Open</th>\n",
       "      <th>High</th>\n",
       "      <th>Low</th>\n",
       "      <th>Close</th>\n",
       "      <th>Adj Close</th>\n",
       "      <th>Volume</th>\n",
       "    </tr>\n",
       "    <tr>\n",
       "      <th>Date</th>\n",
       "      <th></th>\n",
       "      <th></th>\n",
       "      <th></th>\n",
       "      <th></th>\n",
       "      <th></th>\n",
       "      <th></th>\n",
       "    </tr>\n",
       "  </thead>\n",
       "  <tbody>\n",
       "    <tr>\n",
       "      <th>1950-01-03</th>\n",
       "      <td>16.66</td>\n",
       "      <td>16.66</td>\n",
       "      <td>16.66</td>\n",
       "      <td>16.66</td>\n",
       "      <td>16.66</td>\n",
       "      <td>1260000</td>\n",
       "    </tr>\n",
       "    <tr>\n",
       "      <th>1950-01-04</th>\n",
       "      <td>16.85</td>\n",
       "      <td>16.85</td>\n",
       "      <td>16.85</td>\n",
       "      <td>16.85</td>\n",
       "      <td>16.85</td>\n",
       "      <td>1890000</td>\n",
       "    </tr>\n",
       "    <tr>\n",
       "      <th>1950-01-05</th>\n",
       "      <td>16.93</td>\n",
       "      <td>16.93</td>\n",
       "      <td>16.93</td>\n",
       "      <td>16.93</td>\n",
       "      <td>16.93</td>\n",
       "      <td>2550000</td>\n",
       "    </tr>\n",
       "    <tr>\n",
       "      <th>1950-01-06</th>\n",
       "      <td>16.98</td>\n",
       "      <td>16.98</td>\n",
       "      <td>16.98</td>\n",
       "      <td>16.98</td>\n",
       "      <td>16.98</td>\n",
       "      <td>2010000</td>\n",
       "    </tr>\n",
       "    <tr>\n",
       "      <th>1950-01-09</th>\n",
       "      <td>17.09</td>\n",
       "      <td>17.09</td>\n",
       "      <td>17.08</td>\n",
       "      <td>17.08</td>\n",
       "      <td>17.08</td>\n",
       "      <td>3850000</td>\n",
       "    </tr>\n",
       "  </tbody>\n",
       "</table>\n",
       "</div>"
      ],
      "text/plain": [
       "             Open   High    Low  Close  Adj Close   Volume\n",
       "Date                                                      \n",
       "1950-01-03  16.66  16.66  16.66  16.66      16.66  1260000\n",
       "1950-01-04  16.85  16.85  16.85  16.85      16.85  1890000\n",
       "1950-01-05  16.93  16.93  16.93  16.93      16.93  2550000\n",
       "1950-01-06  16.98  16.98  16.98  16.98      16.98  2010000\n",
       "1950-01-09  17.09  17.09  17.08  17.08      17.08  3850000"
      ]
     },
     "execution_count": 2,
     "metadata": {},
     "output_type": "execute_result"
    }
   ],
   "source": [
    "import numpy, pandas as pd\n",
    "import matplotlib, matplotlib.pyplot as plt\n",
    "import sklearn.linear_model as lm\n",
    "import warnings\n",
    "warnings.filterwarnings('ignore')\n",
    "\n",
    "# indice S&P Americano\n",
    "sap = pd.read_csv(\"SP500.csv\").set_index(\"Date\")\n",
    "\n",
    "sap.head()"
   ]
  },
  {
   "cell_type": "code",
   "execution_count": 4,
   "metadata": {},
   "outputs": [
    {
     "data": {
      "text/html": [
       "<div>\n",
       "<style>\n",
       "    .dataframe thead tr:only-child th {\n",
       "        text-align: right;\n",
       "    }\n",
       "\n",
       "    .dataframe thead th {\n",
       "        text-align: left;\n",
       "    }\n",
       "\n",
       "    .dataframe tbody tr th {\n",
       "        vertical-align: top;\n",
       "    }\n",
       "</style>\n",
       "<table border=\"1\" class=\"dataframe\">\n",
       "  <thead>\n",
       "    <tr style=\"text-align: right;\">\n",
       "      <th></th>\n",
       "      <th>Open</th>\n",
       "      <th>High</th>\n",
       "      <th>Low</th>\n",
       "      <th>Close</th>\n",
       "      <th>Adj Close</th>\n",
       "      <th>Volume</th>\n",
       "    </tr>\n",
       "    <tr>\n",
       "      <th>Date</th>\n",
       "      <th></th>\n",
       "      <th></th>\n",
       "      <th></th>\n",
       "      <th></th>\n",
       "      <th></th>\n",
       "      <th></th>\n",
       "    </tr>\n",
       "  </thead>\n",
       "  <tbody>\n",
       "    <tr>\n",
       "      <th>2017-07-11</th>\n",
       "      <td>2427.350098</td>\n",
       "      <td>2429.300049</td>\n",
       "      <td>2412.790039</td>\n",
       "      <td>2425.530029</td>\n",
       "      <td>2425.530029</td>\n",
       "      <td>3106750000</td>\n",
       "    </tr>\n",
       "    <tr>\n",
       "      <th>2017-07-12</th>\n",
       "      <td>2435.750000</td>\n",
       "      <td>2445.760010</td>\n",
       "      <td>2435.750000</td>\n",
       "      <td>2443.250000</td>\n",
       "      <td>2443.250000</td>\n",
       "      <td>3171620000</td>\n",
       "    </tr>\n",
       "    <tr>\n",
       "      <th>2017-07-13</th>\n",
       "      <td>2444.989990</td>\n",
       "      <td>2449.320068</td>\n",
       "      <td>2441.689941</td>\n",
       "      <td>2447.830078</td>\n",
       "      <td>2447.830078</td>\n",
       "      <td>3067670000</td>\n",
       "    </tr>\n",
       "    <tr>\n",
       "      <th>2017-07-14</th>\n",
       "      <td>2449.159912</td>\n",
       "      <td>2463.540039</td>\n",
       "      <td>2446.689941</td>\n",
       "      <td>2459.270020</td>\n",
       "      <td>2459.270020</td>\n",
       "      <td>2736640000</td>\n",
       "    </tr>\n",
       "    <tr>\n",
       "      <th>2017-07-17</th>\n",
       "      <td>2459.500000</td>\n",
       "      <td>2462.820068</td>\n",
       "      <td>2457.159912</td>\n",
       "      <td>2459.139893</td>\n",
       "      <td>2459.139893</td>\n",
       "      <td>2793170000</td>\n",
       "    </tr>\n",
       "  </tbody>\n",
       "</table>\n",
       "</div>"
      ],
      "text/plain": [
       "                   Open         High          Low        Close    Adj Close  \\\n",
       "Date                                                                          \n",
       "2017-07-11  2427.350098  2429.300049  2412.790039  2425.530029  2425.530029   \n",
       "2017-07-12  2435.750000  2445.760010  2435.750000  2443.250000  2443.250000   \n",
       "2017-07-13  2444.989990  2449.320068  2441.689941  2447.830078  2447.830078   \n",
       "2017-07-14  2449.159912  2463.540039  2446.689941  2459.270020  2459.270020   \n",
       "2017-07-17  2459.500000  2462.820068  2457.159912  2459.139893  2459.139893   \n",
       "\n",
       "                Volume  \n",
       "Date                    \n",
       "2017-07-11  3106750000  \n",
       "2017-07-12  3171620000  \n",
       "2017-07-13  3067670000  \n",
       "2017-07-14  2736640000  \n",
       "2017-07-17  2793170000  "
      ]
     },
     "execution_count": 4,
     "metadata": {},
     "output_type": "execute_result"
    }
   ],
   "source": [
    "sap.tail()"
   ]
  },
  {
   "cell_type": "code",
   "execution_count": 78,
   "metadata": {},
   "outputs": [
    {
     "data": {
      "image/png": "[encoded data removed]",
      "text/plain": [
       "<matplotlib.figure.Figure at 0x11c1a1438>"
      ]
     },
     "metadata": {},
     "output_type": "display_data"
    }
   ],
   "source": [
    "# Select a \"linearly looking\" part\n",
    "sap.index = pd.to_datetime(sap.index)\n",
    "sap_linear = sap.ix[sap.index > pd.to_datetime('2009-01-01')]\n",
    "\n",
    "# Prepare the model and fit it\n",
    "olm = lm.LinearRegression()\n",
    "X = numpy.array([x.toordinal() for x in sap_linear.index])[:, numpy.newaxis]\n",
    "y = sap_linear['Close']\n",
    "olm.fit(X, y)\n",
    "\n",
    "# Predict values\n",
    "yp = [olm.predict(x.toordinal())[0] for x in sap_linear.index]\n",
    "\n",
    "# Evaluate the model\n",
    "olm_score = olm.score(X, y)\n",
    "\n",
    "# Select a nice plotting style\n",
    "matplotlib.style.use(\"ggplot\")\n",
    "plt.figure(figsize=(15,10))\n",
    "\n",
    "# Plot both data sets\n",
    "plt.plot(sap_linear.index, y)\n",
    "plt.plot(sap_linear.index, yp)\n",
    "\n",
    "# Add decorations\n",
    "plt.title(\"OLS Regression\")\n",
    "plt.xlabel(\"Year\")\n",
    "plt.ylabel(\"S&P 500 (closing)\")\n",
    "plt.legend([\"Actual\", \"Predicted\"], loc=\"lower right\")\n",
    "#plt.annotate(\"Score=%.3f\" % olm_score, \n",
    "#             xy=(pd.to_datetime('2010-06-01'), 1900))\n",
    "#plt.show()\n",
    "plt.savefig(\"sp500-linregr.pdf\")\n",
    "plt.show()"
   ]
  },
  {
   "cell_type": "code",
   "execution_count": null,
   "metadata": {
    "collapsed": true
   },
   "outputs": [],
   "source": []
  },
  {
   "cell_type": "code",
   "execution_count": null,
   "metadata": {
    "collapsed": true
   },
   "outputs": [],
   "source": []
  },
  {
   "cell_type": "code",
   "execution_count": null,
   "metadata": {
    "collapsed": true
   },
   "outputs": [],
   "source": []
  }
 ],
 "metadata": {
  "kernelspec": {
   "display_name": "Python 3",
   "language": "python",
   "name": "python3"
  },
  "language_info": {
   "codemirror_mode": {
    "name": "ipython",
    "version": 3
   },
   "file_extension": ".py",
   "mimetype": "text/x-python",
   "name": "python",
   "nbconvert_exporter": "python",
   "pygments_lexer": "ipython3",
   "version": "3.6.1"
  }
 },
 "nbformat": 4,
 "nbformat_minor": 2
}
