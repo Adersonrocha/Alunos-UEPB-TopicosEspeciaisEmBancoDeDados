{
 "cells": [
  {
   "cell_type": "markdown",
   "metadata": {
    "collapsed": true
   },
   "source": [
    "# Regressao Linear - Açudes da Paraíba - época da seca - até 2016\n",
    "## http://www.aesa.pb.gov.br/aesa-website/monitoramento/volume-acude/?id_acude=531"
   ]
  },
  {
   "cell_type": "code",
   "execution_count": 1,
   "metadata": {
    "collapsed": true
   },
   "outputs": [],
   "source": [
    "import pandas as pd"
   ]
  },
  {
   "cell_type": "code",
   "execution_count": 5,
   "metadata": {},
   "outputs": [
    {
     "data": {
      "text/html": [
       "<div>\n",
       "<style>\n",
       "    .dataframe thead tr:only-child th {\n",
       "        text-align: right;\n",
       "    }\n",
       "\n",
       "    .dataframe thead th {\n",
       "        text-align: left;\n",
       "    }\n",
       "\n",
       "    .dataframe tbody tr th {\n",
       "        vertical-align: top;\n",
       "    }\n",
       "</style>\n",
       "<table border=\"1\" class=\"dataframe\">\n",
       "  <thead>\n",
       "    <tr style=\"text-align: right;\">\n",
       "      <th></th>\n",
       "      <th>Açude</th>\n",
       "      <th>Data do registro</th>\n",
       "      <th>Volume (%)</th>\n",
       "      <th>Volume (m³)</th>\n",
       "      <th>Volume de chuvas (mm)</th>\n",
       "    </tr>\n",
       "  </thead>\n",
       "  <tbody>\n",
       "    <tr>\n",
       "      <th>0</th>\n",
       "      <td>Epitácio Pessoa</td>\n",
       "      <td>31/10/2013</td>\n",
       "      <td>40.93</td>\n",
       "      <td>1.685039e+08</td>\n",
       "      <td>0</td>\n",
       "    </tr>\n",
       "    <tr>\n",
       "      <th>1</th>\n",
       "      <td>Epitácio Pessoa</td>\n",
       "      <td>30/11/2013</td>\n",
       "      <td>39.38</td>\n",
       "      <td>1.621124e+08</td>\n",
       "      <td>0</td>\n",
       "    </tr>\n",
       "    <tr>\n",
       "      <th>2</th>\n",
       "      <td>Epitácio Pessoa</td>\n",
       "      <td>31/12/2013</td>\n",
       "      <td>37.47</td>\n",
       "      <td>1.542777e+08</td>\n",
       "      <td>0</td>\n",
       "    </tr>\n",
       "    <tr>\n",
       "      <th>3</th>\n",
       "      <td>Epitácio Pessoa</td>\n",
       "      <td>31/01/2014</td>\n",
       "      <td>35.22</td>\n",
       "      <td>1.450076e+08</td>\n",
       "      <td>0</td>\n",
       "    </tr>\n",
       "    <tr>\n",
       "      <th>4</th>\n",
       "      <td>Epitácio Pessoa</td>\n",
       "      <td>28/02/2014</td>\n",
       "      <td>33.88</td>\n",
       "      <td>1.394859e+08</td>\n",
       "      <td>0</td>\n",
       "    </tr>\n",
       "  </tbody>\n",
       "</table>\n",
       "</div>"
      ],
      "text/plain": [
       "             Açude Data do registro  Volume (%)   Volume (m³)  \\\n",
       "0  Epitácio Pessoa       31/10/2013       40.93  1.685039e+08   \n",
       "1  Epitácio Pessoa       30/11/2013       39.38  1.621124e+08   \n",
       "2  Epitácio Pessoa       31/12/2013       37.47  1.542777e+08   \n",
       "3  Epitácio Pessoa       31/01/2014       35.22  1.450076e+08   \n",
       "4  Epitácio Pessoa       28/02/2014       33.88  1.394859e+08   \n",
       "\n",
       "   Volume de chuvas (mm)  \n",
       "0                      0  \n",
       "1                      0  \n",
       "2                      0  \n",
       "3                      0  \n",
       "4                      0  "
      ]
     },
     "execution_count": 5,
     "metadata": {},
     "output_type": "execute_result"
    }
   ],
   "source": [
    "# leitura do dataset\n",
    "#\n",
    "# Acude de Boqueirão com Recarga do Rio São Francisco - 01/10/2013 ate 31/12/2016\n",
    "df = pd.read_excel(open(\"Boqueirao-EpocaDaSeca.xlsx\",'rb'))\n",
    "df.head()"
   ]
  },
  {
   "cell_type": "code",
   "execution_count": 6,
   "metadata": {},
   "outputs": [
    {
     "data": {
      "text/html": [
       "<div>\n",
       "<style>\n",
       "    .dataframe thead tr:only-child th {\n",
       "        text-align: right;\n",
       "    }\n",
       "\n",
       "    .dataframe thead th {\n",
       "        text-align: left;\n",
       "    }\n",
       "\n",
       "    .dataframe tbody tr th {\n",
       "        vertical-align: top;\n",
       "    }\n",
       "</style>\n",
       "<table border=\"1\" class=\"dataframe\">\n",
       "  <thead>\n",
       "    <tr style=\"text-align: right;\">\n",
       "      <th></th>\n",
       "      <th>Data do registro</th>\n",
       "      <th>Volume (%)</th>\n",
       "      <th>Volume (m³)</th>\n",
       "      <th>Volume de chuvas (mm)</th>\n",
       "    </tr>\n",
       "  </thead>\n",
       "  <tbody>\n",
       "    <tr>\n",
       "      <th>0</th>\n",
       "      <td>31/10/2013</td>\n",
       "      <td>40.93</td>\n",
       "      <td>1.685039e+08</td>\n",
       "      <td>0</td>\n",
       "    </tr>\n",
       "    <tr>\n",
       "      <th>1</th>\n",
       "      <td>30/11/2013</td>\n",
       "      <td>39.38</td>\n",
       "      <td>1.621124e+08</td>\n",
       "      <td>0</td>\n",
       "    </tr>\n",
       "    <tr>\n",
       "      <th>2</th>\n",
       "      <td>31/12/2013</td>\n",
       "      <td>37.47</td>\n",
       "      <td>1.542777e+08</td>\n",
       "      <td>0</td>\n",
       "    </tr>\n",
       "    <tr>\n",
       "      <th>3</th>\n",
       "      <td>31/01/2014</td>\n",
       "      <td>35.22</td>\n",
       "      <td>1.450076e+08</td>\n",
       "      <td>0</td>\n",
       "    </tr>\n",
       "    <tr>\n",
       "      <th>4</th>\n",
       "      <td>28/02/2014</td>\n",
       "      <td>33.88</td>\n",
       "      <td>1.394859e+08</td>\n",
       "      <td>0</td>\n",
       "    </tr>\n",
       "  </tbody>\n",
       "</table>\n",
       "</div>"
      ],
      "text/plain": [
       "  Data do registro  Volume (%)   Volume (m³)  Volume de chuvas (mm)\n",
       "0       31/10/2013       40.93  1.685039e+08                      0\n",
       "1       30/11/2013       39.38  1.621124e+08                      0\n",
       "2       31/12/2013       37.47  1.542777e+08                      0\n",
       "3       31/01/2014       35.22  1.450076e+08                      0\n",
       "4       28/02/2014       33.88  1.394859e+08                      0"
      ]
     },
     "execution_count": 6,
     "metadata": {},
     "output_type": "execute_result"
    }
   ],
   "source": [
    "del df[\"Açude\"]\n",
    "df.head()"
   ]
  },
  {
   "cell_type": "code",
   "execution_count": 7,
   "metadata": {},
   "outputs": [
    {
     "data": {
      "text/html": [
       "<div>\n",
       "<style>\n",
       "    .dataframe thead tr:only-child th {\n",
       "        text-align: right;\n",
       "    }\n",
       "\n",
       "    .dataframe thead th {\n",
       "        text-align: left;\n",
       "    }\n",
       "\n",
       "    .dataframe tbody tr th {\n",
       "        vertical-align: top;\n",
       "    }\n",
       "</style>\n",
       "<table border=\"1\" class=\"dataframe\">\n",
       "  <thead>\n",
       "    <tr style=\"text-align: right;\">\n",
       "      <th></th>\n",
       "      <th>Data do registro</th>\n",
       "      <th>Volume (%)</th>\n",
       "      <th>Volume (m³)</th>\n",
       "      <th>Volume de chuvas (mm)</th>\n",
       "    </tr>\n",
       "  </thead>\n",
       "  <tbody>\n",
       "    <tr>\n",
       "      <th>34</th>\n",
       "      <td>31/08/2016</td>\n",
       "      <td>7.34</td>\n",
       "      <td>30221465.44</td>\n",
       "      <td>0</td>\n",
       "    </tr>\n",
       "    <tr>\n",
       "      <th>35</th>\n",
       "      <td>30/09/2016</td>\n",
       "      <td>6.70</td>\n",
       "      <td>27596072.02</td>\n",
       "      <td>0</td>\n",
       "    </tr>\n",
       "    <tr>\n",
       "      <th>36</th>\n",
       "      <td>31/10/2016</td>\n",
       "      <td>6.05</td>\n",
       "      <td>24888594.75</td>\n",
       "      <td>0</td>\n",
       "    </tr>\n",
       "    <tr>\n",
       "      <th>37</th>\n",
       "      <td>30/11/2016</td>\n",
       "      <td>5.39</td>\n",
       "      <td>22196764.40</td>\n",
       "      <td>0</td>\n",
       "    </tr>\n",
       "    <tr>\n",
       "      <th>38</th>\n",
       "      <td>31/12/2016</td>\n",
       "      <td>4.82</td>\n",
       "      <td>19828074.48</td>\n",
       "      <td>0</td>\n",
       "    </tr>\n",
       "  </tbody>\n",
       "</table>\n",
       "</div>"
      ],
      "text/plain": [
       "   Data do registro  Volume (%)  Volume (m³)  Volume de chuvas (mm)\n",
       "34       31/08/2016        7.34  30221465.44                      0\n",
       "35       30/09/2016        6.70  27596072.02                      0\n",
       "36       31/10/2016        6.05  24888594.75                      0\n",
       "37       30/11/2016        5.39  22196764.40                      0\n",
       "38       31/12/2016        4.82  19828074.48                      0"
      ]
     },
     "execution_count": 7,
     "metadata": {},
     "output_type": "execute_result"
    }
   ],
   "source": [
    "df.tail()"
   ]
  },
  {
   "cell_type": "code",
   "execution_count": 8,
   "metadata": {},
   "outputs": [
    {
     "data": {
      "text/html": [
       "<div>\n",
       "<style>\n",
       "    .dataframe thead tr:only-child th {\n",
       "        text-align: right;\n",
       "    }\n",
       "\n",
       "    .dataframe thead th {\n",
       "        text-align: left;\n",
       "    }\n",
       "\n",
       "    .dataframe tbody tr th {\n",
       "        vertical-align: top;\n",
       "    }\n",
       "</style>\n",
       "<table border=\"1\" class=\"dataframe\">\n",
       "  <thead>\n",
       "    <tr style=\"text-align: right;\">\n",
       "      <th></th>\n",
       "      <th>Data do registro</th>\n",
       "      <th>Volume (%)</th>\n",
       "      <th>Volume (m³)</th>\n",
       "      <th>Volume de chuvas (mm)</th>\n",
       "    </tr>\n",
       "  </thead>\n",
       "  <tbody>\n",
       "    <tr>\n",
       "      <th>0</th>\n",
       "      <td>2013-10-31</td>\n",
       "      <td>40.93</td>\n",
       "      <td>1.685039e+08</td>\n",
       "      <td>0</td>\n",
       "    </tr>\n",
       "    <tr>\n",
       "      <th>1</th>\n",
       "      <td>2013-11-30</td>\n",
       "      <td>39.38</td>\n",
       "      <td>1.621124e+08</td>\n",
       "      <td>0</td>\n",
       "    </tr>\n",
       "    <tr>\n",
       "      <th>2</th>\n",
       "      <td>2013-12-31</td>\n",
       "      <td>37.47</td>\n",
       "      <td>1.542777e+08</td>\n",
       "      <td>0</td>\n",
       "    </tr>\n",
       "    <tr>\n",
       "      <th>3</th>\n",
       "      <td>2014-01-31</td>\n",
       "      <td>35.22</td>\n",
       "      <td>1.450076e+08</td>\n",
       "      <td>0</td>\n",
       "    </tr>\n",
       "    <tr>\n",
       "      <th>4</th>\n",
       "      <td>2014-02-28</td>\n",
       "      <td>33.88</td>\n",
       "      <td>1.394859e+08</td>\n",
       "      <td>0</td>\n",
       "    </tr>\n",
       "  </tbody>\n",
       "</table>\n",
       "</div>"
      ],
      "text/plain": [
       "  Data do registro  Volume (%)   Volume (m³)  Volume de chuvas (mm)\n",
       "0       2013-10-31       40.93  1.685039e+08                      0\n",
       "1       2013-11-30       39.38  1.621124e+08                      0\n",
       "2       2013-12-31       37.47  1.542777e+08                      0\n",
       "3       2014-01-31       35.22  1.450076e+08                      0\n",
       "4       2014-02-28       33.88  1.394859e+08                      0"
      ]
     },
     "execution_count": 8,
     "metadata": {},
     "output_type": "execute_result"
    }
   ],
   "source": [
    "# converter atributo para data\n",
    "df['Data do registro'] =  pd.to_datetime( df['Data do registro'], format=\"%d/%m/%Y\") \n",
    "df.head()"
   ]
  },
  {
   "cell_type": "code",
   "execution_count": 9,
   "metadata": {},
   "outputs": [
    {
     "data": {
      "text/html": [
       "<div>\n",
       "<style>\n",
       "    .dataframe thead tr:only-child th {\n",
       "        text-align: right;\n",
       "    }\n",
       "\n",
       "    .dataframe thead th {\n",
       "        text-align: left;\n",
       "    }\n",
       "\n",
       "    .dataframe tbody tr th {\n",
       "        vertical-align: top;\n",
       "    }\n",
       "</style>\n",
       "<table border=\"1\" class=\"dataframe\">\n",
       "  <thead>\n",
       "    <tr style=\"text-align: right;\">\n",
       "      <th></th>\n",
       "      <th>Data do registro</th>\n",
       "      <th>Volume (%)</th>\n",
       "      <th>Volume (m³)</th>\n",
       "      <th>Volume de chuvas (mm)</th>\n",
       "    </tr>\n",
       "    <tr>\n",
       "      <th>Data do registro</th>\n",
       "      <th></th>\n",
       "      <th></th>\n",
       "      <th></th>\n",
       "      <th></th>\n",
       "    </tr>\n",
       "  </thead>\n",
       "  <tbody>\n",
       "    <tr>\n",
       "      <th>2013-10-31</th>\n",
       "      <td>2013-10-31</td>\n",
       "      <td>40.93</td>\n",
       "      <td>1.685039e+08</td>\n",
       "      <td>0</td>\n",
       "    </tr>\n",
       "    <tr>\n",
       "      <th>2013-11-30</th>\n",
       "      <td>2013-11-30</td>\n",
       "      <td>39.38</td>\n",
       "      <td>1.621124e+08</td>\n",
       "      <td>0</td>\n",
       "    </tr>\n",
       "    <tr>\n",
       "      <th>2013-12-31</th>\n",
       "      <td>2013-12-31</td>\n",
       "      <td>37.47</td>\n",
       "      <td>1.542777e+08</td>\n",
       "      <td>0</td>\n",
       "    </tr>\n",
       "    <tr>\n",
       "      <th>2014-01-31</th>\n",
       "      <td>2014-01-31</td>\n",
       "      <td>35.22</td>\n",
       "      <td>1.450076e+08</td>\n",
       "      <td>0</td>\n",
       "    </tr>\n",
       "    <tr>\n",
       "      <th>2014-02-28</th>\n",
       "      <td>2014-02-28</td>\n",
       "      <td>33.88</td>\n",
       "      <td>1.394859e+08</td>\n",
       "      <td>0</td>\n",
       "    </tr>\n",
       "  </tbody>\n",
       "</table>\n",
       "</div>"
      ],
      "text/plain": [
       "                 Data do registro  Volume (%)   Volume (m³)  \\\n",
       "Data do registro                                              \n",
       "2013-10-31             2013-10-31       40.93  1.685039e+08   \n",
       "2013-11-30             2013-11-30       39.38  1.621124e+08   \n",
       "2013-12-31             2013-12-31       37.47  1.542777e+08   \n",
       "2014-01-31             2014-01-31       35.22  1.450076e+08   \n",
       "2014-02-28             2014-02-28       33.88  1.394859e+08   \n",
       "\n",
       "                  Volume de chuvas (mm)  \n",
       "Data do registro                         \n",
       "2013-10-31                            0  \n",
       "2013-11-30                            0  \n",
       "2013-12-31                            0  \n",
       "2014-01-31                            0  \n",
       "2014-02-28                            0  "
      ]
     },
     "execution_count": 9,
     "metadata": {},
     "output_type": "execute_result"
    }
   ],
   "source": [
    "# colocar a data como indice para fazer uma série temporal\n",
    "df2 = df.set_index(pd.DatetimeIndex(df['Data do registro']))\n",
    "#del df2['Data do registro']\n",
    "df2.head()"
   ]
  },
  {
   "cell_type": "code",
   "execution_count": 10,
   "metadata": {},
   "outputs": [
    {
     "data": {
      "text/html": [
       "<div>\n",
       "<style>\n",
       "    .dataframe thead tr:only-child th {\n",
       "        text-align: right;\n",
       "    }\n",
       "\n",
       "    .dataframe thead th {\n",
       "        text-align: left;\n",
       "    }\n",
       "\n",
       "    .dataframe tbody tr th {\n",
       "        vertical-align: top;\n",
       "    }\n",
       "</style>\n",
       "<table border=\"1\" class=\"dataframe\">\n",
       "  <thead>\n",
       "    <tr style=\"text-align: right;\">\n",
       "      <th></th>\n",
       "      <th>Volume (%)</th>\n",
       "      <th>Volume (m³)</th>\n",
       "      <th>Volume de chuvas (mm)</th>\n",
       "    </tr>\n",
       "  </thead>\n",
       "  <tbody>\n",
       "    <tr>\n",
       "      <th>count</th>\n",
       "      <td>39.000000</td>\n",
       "      <td>3.900000e+01</td>\n",
       "      <td>39.0</td>\n",
       "    </tr>\n",
       "    <tr>\n",
       "      <th>mean</th>\n",
       "      <td>20.041795</td>\n",
       "      <td>8.251010e+07</td>\n",
       "      <td>0.0</td>\n",
       "    </tr>\n",
       "    <tr>\n",
       "      <th>std</th>\n",
       "      <td>10.597193</td>\n",
       "      <td>4.362670e+07</td>\n",
       "      <td>0.0</td>\n",
       "    </tr>\n",
       "    <tr>\n",
       "      <th>min</th>\n",
       "      <td>4.820000</td>\n",
       "      <td>1.982807e+07</td>\n",
       "      <td>0.0</td>\n",
       "    </tr>\n",
       "    <tr>\n",
       "      <th>25%</th>\n",
       "      <td>10.930000</td>\n",
       "      <td>4.499237e+07</td>\n",
       "      <td>0.0</td>\n",
       "    </tr>\n",
       "    <tr>\n",
       "      <th>50%</th>\n",
       "      <td>18.630000</td>\n",
       "      <td>7.670369e+07</td>\n",
       "      <td>0.0</td>\n",
       "    </tr>\n",
       "    <tr>\n",
       "      <th>75%</th>\n",
       "      <td>29.165000</td>\n",
       "      <td>1.200656e+08</td>\n",
       "      <td>0.0</td>\n",
       "    </tr>\n",
       "    <tr>\n",
       "      <th>max</th>\n",
       "      <td>40.930000</td>\n",
       "      <td>1.685039e+08</td>\n",
       "      <td>0.0</td>\n",
       "    </tr>\n",
       "  </tbody>\n",
       "</table>\n",
       "</div>"
      ],
      "text/plain": [
       "       Volume (%)   Volume (m³)  Volume de chuvas (mm)\n",
       "count   39.000000  3.900000e+01                   39.0\n",
       "mean    20.041795  8.251010e+07                    0.0\n",
       "std     10.597193  4.362670e+07                    0.0\n",
       "min      4.820000  1.982807e+07                    0.0\n",
       "25%     10.930000  4.499237e+07                    0.0\n",
       "50%     18.630000  7.670369e+07                    0.0\n",
       "75%     29.165000  1.200656e+08                    0.0\n",
       "max     40.930000  1.685039e+08                    0.0"
      ]
     },
     "execution_count": 10,
     "metadata": {},
     "output_type": "execute_result"
    }
   ],
   "source": [
    "#del df2[\"Açude\"]\n",
    "df2.describe()"
   ]
  },
  {
   "cell_type": "code",
   "execution_count": 11,
   "metadata": {},
   "outputs": [
    {
     "name": "stdout",
     "output_type": "stream",
     "text": [
      "<class 'pandas.core.frame.DataFrame'>\n",
      "DatetimeIndex: 39 entries, 2013-10-31 to 2016-12-31\n",
      "Data columns (total 4 columns):\n",
      "Data do registro         39 non-null datetime64[ns]\n",
      "Volume (%)               39 non-null float64\n",
      "Volume (m³)              39 non-null float64\n",
      "Volume de chuvas (mm)    39 non-null int64\n",
      "dtypes: datetime64[ns](1), float64(2), int64(1)\n",
      "memory usage: 1.5 KB\n"
     ]
    }
   ],
   "source": [
    "df2.info()"
   ]
  },
  {
   "cell_type": "code",
   "execution_count": 12,
   "metadata": {},
   "outputs": [
    {
     "data": {
      "text/html": [
       "<div>\n",
       "<style>\n",
       "    .dataframe thead tr:only-child th {\n",
       "        text-align: right;\n",
       "    }\n",
       "\n",
       "    .dataframe thead th {\n",
       "        text-align: left;\n",
       "    }\n",
       "\n",
       "    .dataframe tbody tr th {\n",
       "        vertical-align: top;\n",
       "    }\n",
       "</style>\n",
       "<table border=\"1\" class=\"dataframe\">\n",
       "  <thead>\n",
       "    <tr style=\"text-align: right;\">\n",
       "      <th></th>\n",
       "      <th>Data do registro</th>\n",
       "      <th>Volume (%)</th>\n",
       "      <th>Volume (m³)</th>\n",
       "      <th>Volume de chuvas (mm)</th>\n",
       "    </tr>\n",
       "    <tr>\n",
       "      <th>Data do registro</th>\n",
       "      <th></th>\n",
       "      <th></th>\n",
       "      <th></th>\n",
       "      <th></th>\n",
       "    </tr>\n",
       "  </thead>\n",
       "  <tbody>\n",
       "    <tr>\n",
       "      <th>2013-10-31</th>\n",
       "      <td>2013-10-31</td>\n",
       "      <td>40.93</td>\n",
       "      <td>1.685039e+08</td>\n",
       "      <td>0</td>\n",
       "    </tr>\n",
       "    <tr>\n",
       "      <th>2013-11-30</th>\n",
       "      <td>2013-11-30</td>\n",
       "      <td>39.38</td>\n",
       "      <td>1.621124e+08</td>\n",
       "      <td>0</td>\n",
       "    </tr>\n",
       "    <tr>\n",
       "      <th>2013-12-31</th>\n",
       "      <td>2013-12-31</td>\n",
       "      <td>37.47</td>\n",
       "      <td>1.542777e+08</td>\n",
       "      <td>0</td>\n",
       "    </tr>\n",
       "    <tr>\n",
       "      <th>2014-01-31</th>\n",
       "      <td>2014-01-31</td>\n",
       "      <td>35.22</td>\n",
       "      <td>1.450076e+08</td>\n",
       "      <td>0</td>\n",
       "    </tr>\n",
       "    <tr>\n",
       "      <th>2014-02-28</th>\n",
       "      <td>2014-02-28</td>\n",
       "      <td>33.88</td>\n",
       "      <td>1.394859e+08</td>\n",
       "      <td>0</td>\n",
       "    </tr>\n",
       "  </tbody>\n",
       "</table>\n",
       "</div>"
      ],
      "text/plain": [
       "                 Data do registro  Volume (%)   Volume (m³)  \\\n",
       "Data do registro                                              \n",
       "2013-10-31             2013-10-31       40.93  1.685039e+08   \n",
       "2013-11-30             2013-11-30       39.38  1.621124e+08   \n",
       "2013-12-31             2013-12-31       37.47  1.542777e+08   \n",
       "2014-01-31             2014-01-31       35.22  1.450076e+08   \n",
       "2014-02-28             2014-02-28       33.88  1.394859e+08   \n",
       "\n",
       "                  Volume de chuvas (mm)  \n",
       "Data do registro                         \n",
       "2013-10-31                            0  \n",
       "2013-11-30                            0  \n",
       "2013-12-31                            0  \n",
       "2014-01-31                            0  \n",
       "2014-02-28                            0  "
      ]
     },
     "execution_count": 12,
     "metadata": {},
     "output_type": "execute_result"
    }
   ],
   "source": [
    "#del df2[\"Açude\"]\n",
    "#del df2[\"Data do registro\"]\n",
    "df2.head()"
   ]
  },
  {
   "cell_type": "code",
   "execution_count": 14,
   "metadata": {},
   "outputs": [
    {
     "data": {
      "image/png": "[encoded data removed]",
      "text/plain": [
       "<matplotlib.figure.Figure at 0x1162269b0>"
      ]
     },
     "metadata": {},
     "output_type": "display_data"
    }
   ],
   "source": [
    "import matplotlib, matplotlib.pyplot as plt\n",
    "\n",
    "matplotlib.style.use(\"ggplot\")\n",
    "plt.figure(figsize=(15,10))\n",
    "plt.plot(df2[\"Volume (%)\"])\n",
    "# adcionando textos\n",
    "plt.title(\"Açude de Boqueirão - Época da Seca (01/10/2013 ate 31/12/2016)\")\n",
    "plt.xlabel(\"Ano\")\n",
    "plt.ylabel(\"Volume (%)\")\n",
    "plt.savefig(\"Boqueirao-seca.pdf\")\n",
    "\n",
    "plt.show()"
   ]
  },
  {
   "cell_type": "code",
   "execution_count": 15,
   "metadata": {},
   "outputs": [
    {
     "data": {
      "text/html": [
       "<div>\n",
       "<style>\n",
       "    .dataframe thead tr:only-child th {\n",
       "        text-align: right;\n",
       "    }\n",
       "\n",
       "    .dataframe thead th {\n",
       "        text-align: left;\n",
       "    }\n",
       "\n",
       "    .dataframe tbody tr th {\n",
       "        vertical-align: top;\n",
       "    }\n",
       "</style>\n",
       "<table border=\"1\" class=\"dataframe\">\n",
       "  <thead>\n",
       "    <tr style=\"text-align: right;\">\n",
       "      <th></th>\n",
       "      <th>Data do registro</th>\n",
       "      <th>Volume (%)</th>\n",
       "      <th>Volume (m³)</th>\n",
       "      <th>Volume de chuvas (mm)</th>\n",
       "      <th>dia</th>\n",
       "    </tr>\n",
       "    <tr>\n",
       "      <th>Data do registro</th>\n",
       "      <th></th>\n",
       "      <th></th>\n",
       "      <th></th>\n",
       "      <th></th>\n",
       "      <th></th>\n",
       "    </tr>\n",
       "  </thead>\n",
       "  <tbody>\n",
       "    <tr>\n",
       "      <th>2013-10-31</th>\n",
       "      <td>2013-10-31</td>\n",
       "      <td>40.93</td>\n",
       "      <td>1.685039e+08</td>\n",
       "      <td>0</td>\n",
       "      <td>1</td>\n",
       "    </tr>\n",
       "    <tr>\n",
       "      <th>2013-11-30</th>\n",
       "      <td>2013-11-30</td>\n",
       "      <td>39.38</td>\n",
       "      <td>1.621124e+08</td>\n",
       "      <td>0</td>\n",
       "      <td>2</td>\n",
       "    </tr>\n",
       "    <tr>\n",
       "      <th>2013-12-31</th>\n",
       "      <td>2013-12-31</td>\n",
       "      <td>37.47</td>\n",
       "      <td>1.542777e+08</td>\n",
       "      <td>0</td>\n",
       "      <td>3</td>\n",
       "    </tr>\n",
       "    <tr>\n",
       "      <th>2014-01-31</th>\n",
       "      <td>2014-01-31</td>\n",
       "      <td>35.22</td>\n",
       "      <td>1.450076e+08</td>\n",
       "      <td>0</td>\n",
       "      <td>4</td>\n",
       "    </tr>\n",
       "    <tr>\n",
       "      <th>2014-02-28</th>\n",
       "      <td>2014-02-28</td>\n",
       "      <td>33.88</td>\n",
       "      <td>1.394859e+08</td>\n",
       "      <td>0</td>\n",
       "      <td>5</td>\n",
       "    </tr>\n",
       "  </tbody>\n",
       "</table>\n",
       "</div>"
      ],
      "text/plain": [
       "                 Data do registro  Volume (%)   Volume (m³)  \\\n",
       "Data do registro                                              \n",
       "2013-10-31             2013-10-31       40.93  1.685039e+08   \n",
       "2013-11-30             2013-11-30       39.38  1.621124e+08   \n",
       "2013-12-31             2013-12-31       37.47  1.542777e+08   \n",
       "2014-01-31             2014-01-31       35.22  1.450076e+08   \n",
       "2014-02-28             2014-02-28       33.88  1.394859e+08   \n",
       "\n",
       "                  Volume de chuvas (mm)  dia  \n",
       "Data do registro                              \n",
       "2013-10-31                            0    1  \n",
       "2013-11-30                            0    2  \n",
       "2013-12-31                            0    3  \n",
       "2014-01-31                            0    4  \n",
       "2014-02-28                            0    5  "
      ]
     },
     "execution_count": 15,
     "metadata": {},
     "output_type": "execute_result"
    }
   ],
   "source": [
    "# criar uma coluna com os dias\n",
    "df3 = df2\n",
    "numero_de_dias = len(df3)\n",
    "df3[\"dia\"] = range(1,numero_de_dias+1)\n",
    "df3.head()"
   ]
  },
  {
   "cell_type": "code",
   "execution_count": 16,
   "metadata": {},
   "outputs": [
    {
     "data": {
      "text/plain": [
       "39"
      ]
     },
     "execution_count": 16,
     "metadata": {},
     "output_type": "execute_result"
    }
   ],
   "source": [
    "len(df3) # numero de tuplas ou linhas ou medições"
   ]
  },
  {
   "cell_type": "code",
   "execution_count": 17,
   "metadata": {},
   "outputs": [
    {
     "data": {
      "text/html": [
       "<div>\n",
       "<style>\n",
       "    .dataframe thead tr:only-child th {\n",
       "        text-align: right;\n",
       "    }\n",
       "\n",
       "    .dataframe thead th {\n",
       "        text-align: left;\n",
       "    }\n",
       "\n",
       "    .dataframe tbody tr th {\n",
       "        vertical-align: top;\n",
       "    }\n",
       "</style>\n",
       "<table border=\"1\" class=\"dataframe\">\n",
       "  <thead>\n",
       "    <tr style=\"text-align: right;\">\n",
       "      <th></th>\n",
       "      <th>Data do registro</th>\n",
       "      <th>Volume (%)</th>\n",
       "      <th>Volume (m³)</th>\n",
       "      <th>Volume de chuvas (mm)</th>\n",
       "      <th>dia</th>\n",
       "    </tr>\n",
       "    <tr>\n",
       "      <th>Data do registro</th>\n",
       "      <th></th>\n",
       "      <th></th>\n",
       "      <th></th>\n",
       "      <th></th>\n",
       "      <th></th>\n",
       "    </tr>\n",
       "  </thead>\n",
       "  <tbody>\n",
       "    <tr>\n",
       "      <th>2016-08-31</th>\n",
       "      <td>2016-08-31</td>\n",
       "      <td>7.34</td>\n",
       "      <td>30221465.44</td>\n",
       "      <td>0</td>\n",
       "      <td>35</td>\n",
       "    </tr>\n",
       "    <tr>\n",
       "      <th>2016-09-30</th>\n",
       "      <td>2016-09-30</td>\n",
       "      <td>6.70</td>\n",
       "      <td>27596072.02</td>\n",
       "      <td>0</td>\n",
       "      <td>36</td>\n",
       "    </tr>\n",
       "    <tr>\n",
       "      <th>2016-10-31</th>\n",
       "      <td>2016-10-31</td>\n",
       "      <td>6.05</td>\n",
       "      <td>24888594.75</td>\n",
       "      <td>0</td>\n",
       "      <td>37</td>\n",
       "    </tr>\n",
       "    <tr>\n",
       "      <th>2016-11-30</th>\n",
       "      <td>2016-11-30</td>\n",
       "      <td>5.39</td>\n",
       "      <td>22196764.40</td>\n",
       "      <td>0</td>\n",
       "      <td>38</td>\n",
       "    </tr>\n",
       "    <tr>\n",
       "      <th>2016-12-31</th>\n",
       "      <td>2016-12-31</td>\n",
       "      <td>4.82</td>\n",
       "      <td>19828074.48</td>\n",
       "      <td>0</td>\n",
       "      <td>39</td>\n",
       "    </tr>\n",
       "  </tbody>\n",
       "</table>\n",
       "</div>"
      ],
      "text/plain": [
       "                 Data do registro  Volume (%)  Volume (m³)  \\\n",
       "Data do registro                                             \n",
       "2016-08-31             2016-08-31        7.34  30221465.44   \n",
       "2016-09-30             2016-09-30        6.70  27596072.02   \n",
       "2016-10-31             2016-10-31        6.05  24888594.75   \n",
       "2016-11-30             2016-11-30        5.39  22196764.40   \n",
       "2016-12-31             2016-12-31        4.82  19828074.48   \n",
       "\n",
       "                  Volume de chuvas (mm)  dia  \n",
       "Data do registro                              \n",
       "2016-08-31                            0   35  \n",
       "2016-09-30                            0   36  \n",
       "2016-10-31                            0   37  \n",
       "2016-11-30                            0   38  \n",
       "2016-12-31                            0   39  "
      ]
     },
     "execution_count": 17,
     "metadata": {},
     "output_type": "execute_result"
    }
   ],
   "source": [
    "df3.tail()"
   ]
  },
  {
   "cell_type": "code",
   "execution_count": 18,
   "metadata": {},
   "outputs": [
    {
     "data": {
      "text/html": [
       "<div>\n",
       "<style>\n",
       "    .dataframe thead tr:only-child th {\n",
       "        text-align: right;\n",
       "    }\n",
       "\n",
       "    .dataframe thead th {\n",
       "        text-align: left;\n",
       "    }\n",
       "\n",
       "    .dataframe tbody tr th {\n",
       "        vertical-align: top;\n",
       "    }\n",
       "</style>\n",
       "<table border=\"1\" class=\"dataframe\">\n",
       "  <thead>\n",
       "    <tr style=\"text-align: right;\">\n",
       "      <th></th>\n",
       "      <th>Data do registro</th>\n",
       "      <th>Volume (%)</th>\n",
       "      <th>Volume (m³)</th>\n",
       "      <th>Volume de chuvas (mm)</th>\n",
       "      <th>dia</th>\n",
       "    </tr>\n",
       "    <tr>\n",
       "      <th>Data do registro</th>\n",
       "      <th></th>\n",
       "      <th></th>\n",
       "      <th></th>\n",
       "      <th></th>\n",
       "      <th></th>\n",
       "    </tr>\n",
       "  </thead>\n",
       "  <tbody>\n",
       "    <tr>\n",
       "      <th>2013-10-31</th>\n",
       "      <td>2013-10-31</td>\n",
       "      <td>40.93</td>\n",
       "      <td>1.685039e+08</td>\n",
       "      <td>0</td>\n",
       "      <td>1</td>\n",
       "    </tr>\n",
       "    <tr>\n",
       "      <th>2013-11-30</th>\n",
       "      <td>2013-11-30</td>\n",
       "      <td>39.38</td>\n",
       "      <td>1.621124e+08</td>\n",
       "      <td>0</td>\n",
       "      <td>2</td>\n",
       "    </tr>\n",
       "    <tr>\n",
       "      <th>2013-12-31</th>\n",
       "      <td>2013-12-31</td>\n",
       "      <td>37.47</td>\n",
       "      <td>1.542777e+08</td>\n",
       "      <td>0</td>\n",
       "      <td>3</td>\n",
       "    </tr>\n",
       "    <tr>\n",
       "      <th>2014-01-31</th>\n",
       "      <td>2014-01-31</td>\n",
       "      <td>35.22</td>\n",
       "      <td>1.450076e+08</td>\n",
       "      <td>0</td>\n",
       "      <td>4</td>\n",
       "    </tr>\n",
       "    <tr>\n",
       "      <th>2014-02-28</th>\n",
       "      <td>2014-02-28</td>\n",
       "      <td>33.88</td>\n",
       "      <td>1.394859e+08</td>\n",
       "      <td>0</td>\n",
       "      <td>5</td>\n",
       "    </tr>\n",
       "  </tbody>\n",
       "</table>\n",
       "</div>"
      ],
      "text/plain": [
       "                 Data do registro  Volume (%)   Volume (m³)  \\\n",
       "Data do registro                                              \n",
       "2013-10-31             2013-10-31       40.93  1.685039e+08   \n",
       "2013-11-30             2013-11-30       39.38  1.621124e+08   \n",
       "2013-12-31             2013-12-31       37.47  1.542777e+08   \n",
       "2014-01-31             2014-01-31       35.22  1.450076e+08   \n",
       "2014-02-28             2014-02-28       33.88  1.394859e+08   \n",
       "\n",
       "                  Volume de chuvas (mm)  dia  \n",
       "Data do registro                              \n",
       "2013-10-31                            0    1  \n",
       "2013-11-30                            0    2  \n",
       "2013-12-31                            0    3  \n",
       "2014-01-31                            0    4  \n",
       "2014-02-28                            0    5  "
      ]
     },
     "execution_count": 18,
     "metadata": {},
     "output_type": "execute_result"
    }
   ],
   "source": [
    "# Preparar os dados para aplicar o modelo de regressao\n",
    "import numpy, pandas as pd\n",
    "import matplotlib, matplotlib.pyplot as plt\n",
    "import sklearn.linear_model as lm\n",
    "import warnings\n",
    "warnings.filterwarnings('ignore')\n",
    "\n",
    "df3.head()"
   ]
  },
  {
   "cell_type": "code",
   "execution_count": 19,
   "metadata": {},
   "outputs": [
    {
     "data": {
      "text/plain": [
       "0.98442326392929158"
      ]
     },
     "execution_count": 19,
     "metadata": {},
     "output_type": "execute_result"
    }
   ],
   "source": [
    "# Aplicar o modelo de Regressao\n",
    "olm = lm.LinearRegression()\n",
    "X = numpy.array([x.toordinal() for x in df3.index])[:, numpy.newaxis]\n",
    "y = df3['Volume (%)']\n",
    "olm.fit(X, y)\n",
    "\n",
    "# Predict values\n",
    "yp = [olm.predict(x.toordinal())[0] for x in df3.index]\n",
    "\n",
    "# Evaluate the model\n",
    "olm_score = olm.score(X, y)\n",
    "\n",
    "olm_score"
   ]
  },
  {
   "cell_type": "code",
   "execution_count": 20,
   "metadata": {},
   "outputs": [
    {
     "data": {
      "image/png": "[encoded data removed]",
      "text/plain": [
       "<matplotlib.figure.Figure at 0x118b991d0>"
      ]
     },
     "metadata": {},
     "output_type": "display_data"
    }
   ],
   "source": [
    "# Plota os dados\n",
    "my_dpi=96\n",
    "#plt.figure(figsize=(800/my_dpi, 600/my_dpi), dpi=my_dpi)\n",
    "plt.figure( dpi=100)\n",
    "%matplotlib inline\n",
    "matplotlib.style.use(\"ggplot\")\n",
    "plt.figure(figsize=(15,10))\n",
    "\n",
    "# Plot both data sets\n",
    "plt.plot(df3.index, y)\n",
    "plt.plot(df3.index, yp)\n",
    "\n",
    "# Add decorations\n",
    "plt.title(\"Regressão Linear (OLS)\")\n",
    "plt.xlabel(\"Ano\")\n",
    "plt.ylabel(\"Volume (%)\")\n",
    "plt.legend([\"Atual\", \"Previsto\"], loc=\"lower right\")\n",
    "path=\"/Users/vladimiralencar/Dropbox/Slides-DataScienceUEPB-2017/Praticas/python/acudes\"\n",
    "plt.savefig(path + \"/BoqueiraoComRecarga.pdf\")\n",
    "plt.show()"
   ]
  },
  {
   "cell_type": "code",
   "execution_count": 27,
   "metadata": {
    "collapsed": true
   },
   "outputs": [],
   "source": [
    "# preparando a saida para plotar"
   ]
  },
  {
   "cell_type": "code",
   "execution_count": 21,
   "metadata": {},
   "outputs": [
    {
     "data": {
      "image/png": "[encoded data removed]",
      "text/plain": [
       "<matplotlib.figure.Figure at 0x11a24c208>"
      ]
     },
     "metadata": {},
     "output_type": "display_data"
    },
    {
     "name": "stdout",
     "output_type": "stream",
     "text": [
      "<ggplot: (294356863)>\n"
     ]
    }
   ],
   "source": [
    "from ggplot import *\n",
    "\n",
    "print (ggplot(df3, aes('dia','Volume (%)')) + \n",
    "  geom_point(colour='steelblue') +\n",
    "  geom_line(data = df3) \n",
    " )\n"
   ]
  },
  {
   "cell_type": "code",
   "execution_count": 22,
   "metadata": {},
   "outputs": [
    {
     "name": "stdout",
     "output_type": "stream",
     "text": [
      "25\n",
      "39\n"
     ]
    }
   ],
   "source": [
    "# criar o modelo de regressao\n",
    "import matplotlib.pyplot as plt\n",
    "import numpy as np\n",
    "from sklearn import  linear_model\n",
    "import numpy as np\n",
    "import warnings\n",
    "warnings.filterwarnings('ignore')\n",
    "\n",
    "# Use only one feature\n",
    "x = df3[\"dia\"]\n",
    "\n",
    "split_dados = int(numero_de_dias * 0.66)\n",
    "\n",
    "print (split_dados)\n",
    "print (numero_de_dias)"
   ]
  },
  {
   "cell_type": "code",
   "execution_count": 23,
   "metadata": {},
   "outputs": [
    {
     "name": "stdout",
     "output_type": "stream",
     "text": [
      "25\n",
      "14\n",
      "25\n",
      "14\n"
     ]
    }
   ],
   "source": [
    "# Split dos dados em conjuntos de treino/teste  \n",
    "\n",
    "\n",
    "X_train = x[-split_dados:].reshape(-1, 1)\n",
    "X_test = x[:-split_dados].reshape(-1, 1)\n",
    "\n",
    "y = df3[\"Volume (%)\"]\n",
    "\n",
    "Y_train = y[-split_dados:]\n",
    "Y_test = y[:-split_dados]\n",
    "\n",
    "\n",
    "print(len(X_train))\n",
    "print(len(X_test))\n",
    "print(len(Y_train))\n",
    "print(len(Y_test))"
   ]
  },
  {
   "cell_type": "code",
   "execution_count": 24,
   "metadata": {},
   "outputs": [
    {
     "name": "stdout",
     "output_type": "stream",
     "text": [
      "Variance score: 0.17\n",
      "Mean squared error: 18.93\n"
     ]
    }
   ],
   "source": [
    "# usar o modelo de regressão linear \n",
    "X = X_train\n",
    "Y = Y_train  \n",
    "\n",
    "regr = linear_model.LinearRegression()\n",
    "regr.fit(X, Y)\n",
    "print('Variance score: %.2f' % regr.score(X_test, Y_test))\n",
    "\n",
    "\n",
    "print(\"Mean squared error: %.2f\"\n",
    "      % np.mean((regr.predict(X_test) - Y_test) ** 2))"
   ]
  },
  {
   "cell_type": "code",
   "execution_count": 25,
   "metadata": {},
   "outputs": [
    {
     "name": "stdout",
     "output_type": "stream",
     "text": [
      " y = -0.7633384615384611 * x + 33.88733846153845\n"
     ]
    }
   ],
   "source": [
    "# a reta de regressao\n",
    "a = regr.coef_[0]\n",
    "b = regr.intercept_\n",
    "print(' y = {0} * x + {1}'.format(a, b))"
   ]
  },
  {
   "cell_type": "code",
   "execution_count": 26,
   "metadata": {},
   "outputs": [
    {
     "data": {
      "image/png": "[encoded data removed]",
      "text/plain": [
       "<matplotlib.figure.Figure at 0x11a1730f0>"
      ]
     },
     "metadata": {},
     "output_type": "display_data"
    }
   ],
   "source": [
    "# Plot outputs\n",
    "matplotlib.style.use(\"ggplot\")\n",
    "plt.figure(figsize=(15,10))\n",
    "\n",
    "# Plot both data sets\n",
    "#plt.scatter(X_test, Y_test,  color='black')\n",
    "plt.plot(X_test, Y_test, color='blue',\n",
    "         linewidth=3)\n",
    "plt.plot(X_test, regr.predict(X_test), color='green',\n",
    "         linewidth=3)\n",
    "\n",
    "plt.xticks(())\n",
    "plt.yticks(())\n",
    "\n",
    "# Add decorations\n",
    "plt.title(\"Açude de Boqueirão - Época da Seca (2013 a 2016)\")\n",
    "plt.xlabel(\"Ano\")\n",
    "plt.ylabel(\"Volume (%)\")\n",
    "plt.legend([\"Atual\", \"Previsto\",], loc=\"lower right\")\n",
    "path=\"/Users/vladimiralencar/Dropbox/Slides-DataScienceUEPB-2017/Praticas/python/acudes\"\n",
    "plt.savefig(path + \"/BoqueiraoComRecarga.pdf\")\n",
    "plt.show()\n",
    "\n"
   ]
  },
  {
   "cell_type": "code",
   "execution_count": 27,
   "metadata": {},
   "outputs": [
    {
     "data": {
      "text/html": [
       "<div>\n",
       "<style>\n",
       "    .dataframe thead tr:only-child th {\n",
       "        text-align: right;\n",
       "    }\n",
       "\n",
       "    .dataframe thead th {\n",
       "        text-align: left;\n",
       "    }\n",
       "\n",
       "    .dataframe tbody tr th {\n",
       "        vertical-align: top;\n",
       "    }\n",
       "</style>\n",
       "<table border=\"1\" class=\"dataframe\">\n",
       "  <thead>\n",
       "    <tr style=\"text-align: right;\">\n",
       "      <th></th>\n",
       "      <th>Volume%</th>\n",
       "      <th>dia</th>\n",
       "    </tr>\n",
       "    <tr>\n",
       "      <th>Data do registro</th>\n",
       "      <th></th>\n",
       "      <th></th>\n",
       "    </tr>\n",
       "  </thead>\n",
       "  <tbody>\n",
       "    <tr>\n",
       "      <th>2013-10-31</th>\n",
       "      <td>40.93</td>\n",
       "      <td>1</td>\n",
       "    </tr>\n",
       "    <tr>\n",
       "      <th>2013-11-30</th>\n",
       "      <td>39.38</td>\n",
       "      <td>2</td>\n",
       "    </tr>\n",
       "    <tr>\n",
       "      <th>2013-12-31</th>\n",
       "      <td>37.47</td>\n",
       "      <td>3</td>\n",
       "    </tr>\n",
       "    <tr>\n",
       "      <th>2014-01-31</th>\n",
       "      <td>35.22</td>\n",
       "      <td>4</td>\n",
       "    </tr>\n",
       "    <tr>\n",
       "      <th>2014-02-28</th>\n",
       "      <td>33.88</td>\n",
       "      <td>5</td>\n",
       "    </tr>\n",
       "  </tbody>\n",
       "</table>\n",
       "</div>"
      ],
      "text/plain": [
       "                  Volume%  dia\n",
       "Data do registro              \n",
       "2013-10-31          40.93    1\n",
       "2013-11-30          39.38    2\n",
       "2013-12-31          37.47    3\n",
       "2014-01-31          35.22    4\n",
       "2014-02-28          33.88    5"
      ]
     },
     "execution_count": 27,
     "metadata": {},
     "output_type": "execute_result"
    }
   ],
   "source": [
    "# Plot usando o pacote  ggplot2 for python\n",
    "\n",
    "# converter o X para lista\n",
    "x = []\n",
    "for i in range(len(X_test)):\n",
    "    x.append(X_test[i][0])\n",
    "\n",
    "dfs = pd.DataFrame({\"dia\": x , \"Volume%\" : Y_test})  #{'col1': ts1, 'col2': ts2}\n",
    "\n",
    "dfs.head()"
   ]
  },
  {
   "cell_type": "code",
   "execution_count": 28,
   "metadata": {},
   "outputs": [
    {
     "name": "stdout",
     "output_type": "stream",
     "text": [
      "predição\n"
     ]
    },
    {
     "data": {
      "text/html": [
       "<div>\n",
       "<style>\n",
       "    .dataframe thead tr:only-child th {\n",
       "        text-align: right;\n",
       "    }\n",
       "\n",
       "    .dataframe thead th {\n",
       "        text-align: left;\n",
       "    }\n",
       "\n",
       "    .dataframe tbody tr th {\n",
       "        vertical-align: top;\n",
       "    }\n",
       "</style>\n",
       "<table border=\"1\" class=\"dataframe\">\n",
       "  <thead>\n",
       "    <tr style=\"text-align: right;\">\n",
       "      <th></th>\n",
       "      <th>Volume%</th>\n",
       "      <th>dia</th>\n",
       "    </tr>\n",
       "  </thead>\n",
       "  <tbody>\n",
       "    <tr>\n",
       "      <th>0</th>\n",
       "      <td>33.124000</td>\n",
       "      <td>1</td>\n",
       "    </tr>\n",
       "    <tr>\n",
       "      <th>1</th>\n",
       "      <td>32.360662</td>\n",
       "      <td>2</td>\n",
       "    </tr>\n",
       "    <tr>\n",
       "      <th>2</th>\n",
       "      <td>31.597323</td>\n",
       "      <td>3</td>\n",
       "    </tr>\n",
       "    <tr>\n",
       "      <th>3</th>\n",
       "      <td>30.833985</td>\n",
       "      <td>4</td>\n",
       "    </tr>\n",
       "    <tr>\n",
       "      <th>4</th>\n",
       "      <td>30.070646</td>\n",
       "      <td>5</td>\n",
       "    </tr>\n",
       "  </tbody>\n",
       "</table>\n",
       "</div>"
      ],
      "text/plain": [
       "     Volume%  dia\n",
       "0  33.124000    1\n",
       "1  32.360662    2\n",
       "2  31.597323    3\n",
       "3  30.833985    4\n",
       "4  30.070646    5"
      ]
     },
     "execution_count": 28,
     "metadata": {},
     "output_type": "execute_result"
    }
   ],
   "source": [
    "# Construir um dataframe para a predicao\n",
    "print(\"predição\")\n",
    "dfpredict = pd.DataFrame({\"dia\": x , \"Volume%\" : regr.predict(X_test)})  #{'col1': ts1, 'col2': ts2}\n",
    "dfpredict.head()"
   ]
  },
  {
   "cell_type": "code",
   "execution_count": 29,
   "metadata": {},
   "outputs": [
    {
     "data": {
      "image/png": "[encoded data removed]",
      "text/plain": [
       "<matplotlib.figure.Figure at 0x11a0ae6d8>"
      ]
     },
     "metadata": {},
     "output_type": "display_data"
    },
    {
     "name": "stdout",
     "output_type": "stream",
     "text": [
      "<ggplot: (295744695)>\n"
     ]
    }
   ],
   "source": [
    "# using ggplot2 for python\n",
    "# !pip install ggplot\n",
    "from ggplot import *\n",
    "\n",
    "print (ggplot(dfs, aes('dia', 'Volume%')) + \n",
    "  geom_point(colour='steelblue') +\n",
    "  geom_line(data = dfpredict) \n",
    " )"
   ]
  },
  {
   "cell_type": "code",
   "execution_count": 30,
   "metadata": {},
   "outputs": [
    {
     "data": {
      "text/plain": [
       "25"
      ]
     },
     "execution_count": 30,
     "metadata": {},
     "output_type": "execute_result"
    }
   ],
   "source": [
    "# predicao futura\n",
    "numero_de_dias = len(X_train)\n",
    "numero_de_dias"
   ]
  },
  {
   "cell_type": "code",
   "execution_count": 34,
   "metadata": {},
   "outputs": [
    {
     "data": {
      "text/plain": [
       "10.987184615384617"
      ]
     },
     "execution_count": 34,
     "metadata": {},
     "output_type": "execute_result"
    }
   ],
   "source": [
    "regr.predict([30])[0]"
   ]
  },
  {
   "cell_type": "code",
   "execution_count": 35,
   "metadata": {},
   "outputs": [
    {
     "name": "stdout",
     "output_type": "stream",
     "text": [
      "Volume Boqueirão depois de um ano =  10.99 %\n"
     ]
    }
   ],
   "source": [
    "# predicao para 30 dias\n",
    "pred = regr.predict([30])[0]\n",
    "\n",
    "print (\"Volume Boqueirão depois de um ano = %6.2f %%\" % (pred))"
   ]
  },
  {
   "cell_type": "code",
   "execution_count": 39,
   "metadata": {},
   "outputs": [
    {
     "name": "stdout",
     "output_type": "stream",
     "text": [
      "Volume Boqueirão depois de 40 dias =   3.35 %\n"
     ]
    }
   ],
   "source": [
    "# predicao para 60 dias\n",
    "pred = regr.predict([40])[0]\n",
    "\n",
    "print (\"Volume Boqueirão depois de 40 dias = %6.2f %%\" % (pred))"
   ]
  },
  {
   "cell_type": "code",
   "execution_count": 43,
   "metadata": {},
   "outputs": [
    {
     "name": "stdout",
     "output_type": "stream",
     "text": [
      "Volume Boqueirão depois de 1 dias -> 33.12%\n",
      "Volume Boqueirão depois de 2 dias -> 32.36%\n",
      "Volume Boqueirão depois de 3 dias -> 31.60%\n",
      "Volume Boqueirão depois de 4 dias -> 30.83%\n",
      "Volume Boqueirão depois de 5 dias -> 30.07%\n",
      "Volume Boqueirão depois de 6 dias -> 29.31%\n",
      "Volume Boqueirão depois de 7 dias -> 28.54%\n",
      "Volume Boqueirão depois de 8 dias -> 27.78%\n",
      "Volume Boqueirão depois de 9 dias -> 27.02%\n",
      "Volume Boqueirão depois de 10 dias -> 26.25%\n",
      "Volume Boqueirão depois de 11 dias -> 25.49%\n",
      "Volume Boqueirão depois de 12 dias -> 24.73%\n",
      "Volume Boqueirão depois de 13 dias -> 23.96%\n",
      "Volume Boqueirão depois de 14 dias -> 23.20%\n",
      "Volume Boqueirão depois de 15 dias -> 22.44%\n",
      "Volume Boqueirão depois de 16 dias -> 21.67%\n",
      "Volume Boqueirão depois de 17 dias -> 20.91%\n",
      "Volume Boqueirão depois de 18 dias -> 20.15%\n",
      "Volume Boqueirão depois de 19 dias -> 19.38%\n",
      "Volume Boqueirão depois de 20 dias -> 18.62%\n",
      "Volume Boqueirão depois de 21 dias -> 17.86%\n",
      "Volume Boqueirão depois de 22 dias -> 17.09%\n",
      "Volume Boqueirão depois de 23 dias -> 16.33%\n",
      "Volume Boqueirão depois de 24 dias -> 15.57%\n",
      "Volume Boqueirão depois de 25 dias -> 14.80%\n",
      "Volume Boqueirão depois de 26 dias -> 14.04%\n",
      "Volume Boqueirão depois de 27 dias -> 13.28%\n",
      "Volume Boqueirão depois de 28 dias -> 12.51%\n",
      "Volume Boqueirão depois de 29 dias -> 11.75%\n",
      "Volume Boqueirão depois de 30 dias -> 10.99%\n",
      "Volume Boqueirão depois de 31 dias -> 10.22%\n",
      "Volume Boqueirão depois de 32 dias -> 9.46 %\n",
      "Volume Boqueirão depois de 33 dias -> 8.70 %\n",
      "Volume Boqueirão depois de 34 dias -> 7.93 %\n",
      "Volume Boqueirão depois de 35 dias -> 7.17 %\n",
      "Volume Boqueirão depois de 36 dias -> 6.41 %\n",
      "Volume Boqueirão depois de 37 dias -> 5.64 %\n",
      "Volume Boqueirão depois de 38 dias -> 4.88 %\n",
      "Volume Boqueirão depois de 39 dias -> 4.12 %\n",
      "Volume Boqueirão depois de 40 dias -> 3.35 %\n",
      "Volume Boqueirão depois de 41 dias -> 2.59 %\n",
      "Volume Boqueirão depois de 42 dias -> 1.83 %\n",
      "Volume Boqueirão depois de 43 dias -> 1.06 %\n",
      "Volume Boqueirão depois de 44 dias -> 0.30 %\n",
      "Volume Boqueirão depois de 45 dias -> -0.46%\n"
     ]
    }
   ],
   "source": [
    "# predicao até acabar a água\n",
    "\n",
    "dias = 1\n",
    "while (True):\n",
    "    pred = regr.predict([dias])[0]\n",
    "    if pred < 0:\n",
    "        break\n",
    "    print (\"Volume Boqueirão depois de %d dias -> %-5.2f%%\" % (dias,pred))\n",
    "    dias = dias + 1\n",
    "pred = regr.predict([dias])[0]\n",
    "print (\"Volume Boqueirão depois de %d dias -> %-5.2f%%\" % (dias,pred))"
   ]
  },
  {
   "cell_type": "code",
   "execution_count": null,
   "metadata": {
    "collapsed": true
   },
   "outputs": [],
   "source": []
  }
 ],
 "metadata": {
  "anaconda-cloud": {},
  "kernelspec": {
   "display_name": "Python 3",
   "language": "python",
   "name": "python3"
  },
  "language_info": {
   "codemirror_mode": {
    "name": "ipython",
    "version": 3
   },
   "file_extension": ".py",
   "mimetype": "text/x-python",
   "name": "python",
   "nbconvert_exporter": "python",
   "pygments_lexer": "ipython3",
   "version": "3.6.1"
  }
 },
 "nbformat": 4,
 "nbformat_minor": 1
}
